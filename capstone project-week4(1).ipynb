{
 "cells": [
  {
   "cell_type": "markdown",
   "metadata": {},
   "source": [
    "## Capstone Project - The Battle of Neighborhoods"
   ]
  },
  {
   "cell_type": "markdown",
   "metadata": {},
   "source": [
    "## Introduction\n",
    "\n",
    "New York is one of the biggest cities in the world and has a huge number of companies based there.\n",
    "Every year a lot of Brazilians, like me, need to go there to work for some months. \n",
    "I will make a analysis to find out what is the best neighborhoods for a Brazilian stay during some months in New York.\n",
    "I will look for neighborhoods with Brazilian restaurants and others places that usually Brazilians love like supermarket, gym, bar and coffee.\n",
    "I will also list the best hotels to stay in those neighborhoods.\n"
   ]
  },
  {
   "cell_type": "markdown",
   "metadata": {},
   "source": [
    "## Data\n",
    "For this project we need the following data :\n",
    "\n",
    "   - New York City data that contains list Boroughs, Neighborhoods along with their latitude and longitude.\n",
    "        Data source : https://cocl.us/new_york_dataset\n",
    "        Description : This data set contains the required information. And we will use this data set to explore various neighborhoods of new york city.\n",
    "   - Brazilian restaurants in each neighborhood of new york city.\n",
    "        Data source : Fousquare API\n",
    "        Description : By using this api we will get all the venues in each neighborhood. We can filter these venues to get only brazilian restaurants.\n",
    "   - Hotel list with ratings \n",
    "        Data source : Fousquare API\n",
    "        Description : By using this api we will get all hotels around neighborhood with rate. "
   ]
  },
  {
   "cell_type": "code",
   "execution_count": null,
   "metadata": {},
   "outputs": [],
   "source": []
  }
 ],
 "metadata": {
  "kernelspec": {
   "display_name": "Python",
   "language": "python",
   "name": "conda-env-python-py"
  },
  "language_info": {
   "codemirror_mode": {
    "name": "ipython",
    "version": 3
   },
   "file_extension": ".py",
   "mimetype": "text/x-python",
   "name": "python",
   "nbconvert_exporter": "python",
   "pygments_lexer": "ipython3",
   "version": "3.6.7"
  }
 },
 "nbformat": 4,
 "nbformat_minor": 4
}
