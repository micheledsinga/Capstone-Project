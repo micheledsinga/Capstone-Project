{
 "cells": [
  {
   "cell_type": "markdown",
   "metadata": {},
   "source": [
    "## Capstone Project - The Battle of Neighborhoods"
   ]
  },
  {
   "cell_type": "markdown",
   "metadata": {},
   "source": [
    "## Introduction\n",
    "\n",
    "I am brazilian and I work at a famous restaurant in Brazil. \n",
    "My husband received a great opportunity to work on New York city for some months, maybe a year, so I decided to go with him.\n",
    "So I need to find out where is a good place in New York to leave and try to find a job on a brazilian restaurant, since I have a good experience on brazilian food. And also I love brazilian food and I would be very hard for me not eating brazilian food for months.\n",
    "I believe that this search can help others brazilians who wants or need to move to New York like me.\n",
    "I will analyse the neighborhoods with brazilian restaurant and check others place of my interest like supermarket, others restaurants and gym.\n"
   ]
  },
  {
   "cell_type": "markdown",
   "metadata": {},
   "source": [
    "## Data\n",
    "For this project we need the following data :\n",
    "\n",
    "   - New York City data that contains list Boroughs, Neighborhoods along with their latitude and longitude.\n",
    "        Data source : https://cocl.us/new_york_dataset\n",
    "        Description : This data set contains the required information. And we will use this data set to explore various neighborhoods of new york city.\n",
    "   - Brazilian restaurants in each neighborhood of new york city.\n",
    "        Data source : Fousquare API\n",
    "        Description : By using this api we will get all the venues in each neighborhood. We can filter these venues to get only brazilian restaurants.\n",
    "   - Hotel list with ratings of the the best neighborhood to leave. "
   ]
  },
  {
   "cell_type": "code",
   "execution_count": null,
   "metadata": {},
   "outputs": [],
   "source": []
  }
 ],
 "metadata": {
  "kernelspec": {
   "display_name": "Python",
   "language": "python",
   "name": "conda-env-python-py"
  },
  "language_info": {
   "codemirror_mode": {
    "name": "ipython",
    "version": 3
   },
   "file_extension": ".py",
   "mimetype": "text/x-python",
   "name": "python",
   "nbconvert_exporter": "python",
   "pygments_lexer": "ipython3",
   "version": "3.6.7"
  }
 },
 "nbformat": 4,
 "nbformat_minor": 4
}
